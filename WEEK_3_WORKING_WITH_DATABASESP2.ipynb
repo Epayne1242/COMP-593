{
  "nbformat": 4,
  "nbformat_minor": 0,
  "metadata": {
    "colab": {
      "name": "WEEK 3 WORKING WITH DATABASES",
      "provenance": [],
      "include_colab_link": true
    },
    "kernelspec": {
      "display_name": "Python 3",
      "name": "python3"
    }
  },
  "cells": [
    {
      "cell_type": "markdown",
      "metadata": {
        "id": "view-in-github",
        "colab_type": "text"
      },
      "source": [
        "<a href=\"https://colab.research.google.com/github/Epayne1242/COMP-593/blob/main/WEEK_3_WORKING_WITH_DATABASESP2.ipynb\" target=\"_parent\"><img src=\"https://colab.research.google.com/assets/colab-badge.svg\" alt=\"Open In Colab\"/></a>"
      ]
    },
    {
      "cell_type": "markdown",
      "metadata": {
        "id": "ATrLBWinTKCJ"
      },
      "source": [
        "# LAB 3: WORKING WITH DATABASES\n"
      ]
    },
    {
      "cell_type": "markdown",
      "metadata": {
        "id": "bH4FqkVLTWRU"
      },
      "source": [
        "## Introduction\n",
        "\n",
        "During this lab, we will experiment with using a few different libararies and modules to connect to and interact with an SQLite database. After creating and configuring our testing database, we will populate it with Fake data and run some queries to see what kind of information we can retreive. For context, we will be creating RSSN, the \"Really Simple Social Network\"."
      ]
    },
    {
      "cell_type": "markdown",
      "metadata": {
        "id": "YtugCh8QUPoi"
      },
      "source": [
        "## Creating a SQLite Database\n",
        "\n",
        "We will be utilizing the `sqlite3` library to create our database file, as it offers the convienience of creating our database file automatically in the event that it cannot find an existing file at the path specified.\n",
        "\n",
        "**Before you run the below code:**\n",
        "On the left of the notebook, select the file folder icon. Then, after you run the code block, you should be able to observe the creation of the database file. If it doesn't appear, try clicking the \"Refresh\" button above the list of folders."
      ]
    },
    {
      "cell_type": "code",
      "metadata": {
        "id": "pzyTkI5PPjib",
        "colab": {
          "base_uri": "https://localhost:8080/"
        },
        "outputId": "d702de72-b09c-4e56-d179-bdd09472872d"
      },
      "source": [
        "import sqlite3\n",
        "\n",
        "#When we retreive a Connection object, a new database will be created for us if it doesn't already exist. \n",
        "myConnection = sqlite3.connect('social_network.db')\n",
        "print(sqlite3.version)"
      ],
      "execution_count": null,
      "outputs": [
        {
          "output_type": "stream",
          "name": "stdout",
          "text": [
            "2.6.0\n"
          ]
        }
      ]
    },
    {
      "cell_type": "markdown",
      "metadata": {
        "id": "gRxXXt8iVmAp"
      },
      "source": [
        "## Creating a Table\n"
      ]
    },
    {
      "cell_type": "markdown",
      "metadata": {
        "id": "plmEQRdNaDMe"
      },
      "source": [
        "We'll use the below code to create a table called `people` within our database. "
      ]
    },
    {
      "cell_type": "code",
      "metadata": {
        "colab": {
          "base_uri": "https://localhost:8080/"
        },
        "id": "uyjSS3cQVwFa",
        "outputId": "a0593a75-8de2-47d5-d00a-84e0d242d50a"
      },
      "source": [
        "import sqlite3\n",
        "\n",
        "#Retreive the Connection object\n",
        "myConnection = sqlite3.connect('social_network.db')\n",
        "\n",
        "#Once we have a Connection object, we can generate a Cursor object, and use that to run our SQL Queries\n",
        "myCursor = myConnection.cursor()\n",
        "\n",
        "#Let's define the SQL Query we will use to create our first table:\n",
        "createPeopleTable = \"\"\" CREATE TABLE IF NOT EXISTS people (\n",
        "                          id integer PRIMARY KEY,\n",
        "                          name text NOT NULL,\n",
        "                          email text NOT NULL,\n",
        "                          address text NOT NULL,\n",
        "                          city text NOT NULL,\n",
        "                          province text NOT NULL,\n",
        "                          country text NOT NULL,\n",
        "                          phone text,\n",
        "                          bio text,\n",
        "                          dob date NOT NULL,\n",
        "                          heatmap integer,\n",
        "                          created_at datetime NOT NULL,\n",
        "                          updated_at datetime NOT NULL,\n",
        "                          ipv4 text\n",
        "                        );\"\"\"\n",
        "\n",
        "#Now that we have the string to create our table,\n",
        "#Cursor objects have an execute() method which will accept an SQL string and perform the operations described.\n",
        "\n",
        "myCursor.execute(createPeopleTable)\n",
        "\n",
        "#We can confirm if our table was created successfully by running the following SQL Query\n",
        "#pragma_table_info is an internal SQLite function that will retun information about a table\n",
        "myCursor.execute(\"SELECT group_concat(name, ', ') FROM pragma_table_info('people')\")\n",
        "print(myCursor.fetchone())\n",
        "\n",
        "#We use to the commit() method on the database Connection object to persist our changes\n",
        "myConnection.commit()\n",
        "\n",
        "#It is always a good idea to close a connection when it will no longer be used\n",
        "myConnection.close()\n"
      ],
      "execution_count": 10,
      "outputs": [
        {
          "output_type": "stream",
          "name": "stdout",
          "text": [
            "('id, name, email, address, city, province, country, phone, bio, dob, heatmap, created_at, updated_at, ipv4',)\n"
          ]
        }
      ]
    },
    {
      "cell_type": "markdown",
      "metadata": {
        "id": "5swGTtjga2qo"
      },
      "source": [
        "\n",
        "If you received a tuple containing the names of the columns, awesome! We have successfully created our database table.\n",
        "```\n",
        "('id, name, email, address, city, province, country, phone, bio, created_at, updated_at',)\n",
        "```\n",
        "\n",
        "Run the below code block to add our first entry."
      ]
    },
    {
      "cell_type": "code",
      "metadata": {
        "id": "ZSPqve9na7b8",
        "colab": {
          "base_uri": "https://localhost:8080/",
          "height": 234
        },
        "outputId": "ae3938b0-8b2d-46fe-e099-9700b661af49"
      },
      "source": [
        "import sqlite3\n",
        "from pprint import pprint #Outputs data in a slightly easier to read format\n",
        "from datetime import datetime #For generating dates and times\n",
        "\n",
        "#Retreive the Connection object\n",
        "myConnection = sqlite3.connect('social_network.db')\n",
        "\n",
        "#Once we have a Connection object, we can generate a Cursor object, and use that to run our SQL Queries\n",
        "myCursor = myConnection.cursor()\n",
        "\n",
        "#Let's define the SQL Query we will use to create our first entry:\n",
        "\n",
        "addPersonQuery = \"\"\"INSERT INTO people (name, \n",
        "                      email, \n",
        "                      address, \n",
        "                      city, \n",
        "                      province, \n",
        "                      country, \n",
        "                      phone, \n",
        "                      bio,\n",
        "                      dob,\n",
        "                      heatmap,\n",
        "                      created_at, \n",
        "                      updated_at, \n",
        "                      ipv4)\n",
        "                  VALUES (?, ?, ?, ?, ?, ?, ?, ?, ?, ?, ?, ?);\"\"\"\n",
        "\n",
        "\"\"\"\n",
        "The ?'s are placeholders that we can fill in when we use the execute() method.\n",
        "This is really handy for code reuse, as we can pass those values are variables in a tuple\n",
        "Instead of hard coding them into the statement.\n",
        "\"\"\"\n",
        "\n",
        "myPerson = (\"John Doe\", \n",
        "            \"johndoe@anon.null\", \n",
        "            \"123 Fake St.\", \n",
        "            \"Fakesville\", \n",
        "            \"Fakesdom\", \n",
        "            \"Fakopolis\", \n",
        "            None, \n",
        "            None,\n",
        "            \"1967-09-12\",\n",
        "            0,\n",
        "            datetime.now(), \n",
        "            datetime.now(),\n",
        "            None)\n",
        "\n",
        "myCursor.execute(addPersonQuery, myPerson)\n",
        "\n",
        "#We can confirm if our table was created successfully by running the following SQL Query\n",
        "#pragma_table_info is an internal SQLite function that will retun information about a table\n",
        "myCursor.execute(\"SELECT * FROM people\")\n",
        "pprint(myCursor.fetchall())\n",
        "\n",
        "# If you run this code block a few times, you will see that you only have 1 entry,\n",
        "# If you uncomment the below lines and run the block a few more times, you will begin to see multiple entries.\n",
        "myConnection.commit()\n",
        "myConnection.close()"
      ],
      "execution_count": null,
      "outputs": [
        {
          "output_type": "error",
          "ename": "OperationalError",
          "evalue": "ignored",
          "traceback": [
            "\u001b[0;31m---------------------------------------------------------------------------\u001b[0m",
            "\u001b[0;31mOperationalError\u001b[0m                          Traceback (most recent call last)",
            "\u001b[0;32m<ipython-input-31-b42549dbac96>\u001b[0m in \u001b[0;36m<module>\u001b[0;34m()\u001b[0m\n\u001b[1;32m     46\u001b[0m             None)\n\u001b[1;32m     47\u001b[0m \u001b[0;34m\u001b[0m\u001b[0m\n\u001b[0;32m---> 48\u001b[0;31m \u001b[0mmyCursor\u001b[0m\u001b[0;34m.\u001b[0m\u001b[0mexecute\u001b[0m\u001b[0;34m(\u001b[0m\u001b[0maddPersonQuery\u001b[0m\u001b[0;34m,\u001b[0m \u001b[0mmyPerson\u001b[0m\u001b[0;34m)\u001b[0m\u001b[0;34m\u001b[0m\u001b[0;34m\u001b[0m\u001b[0m\n\u001b[0m\u001b[1;32m     49\u001b[0m \u001b[0;34m\u001b[0m\u001b[0m\n\u001b[1;32m     50\u001b[0m \u001b[0;31m#We can confirm if our table was created successfully by running the following SQL Query\u001b[0m\u001b[0;34m\u001b[0m\u001b[0;34m\u001b[0m\u001b[0;34m\u001b[0m\u001b[0m\n",
            "\u001b[0;31mOperationalError\u001b[0m: 12 values for 13 columns"
          ]
        }
      ]
    },
    {
      "cell_type": "code",
      "metadata": {
        "id": "blL9pzRCgrMP"
      },
      "source": [
        ""
      ],
      "execution_count": null,
      "outputs": []
    },
    {
      "cell_type": "markdown",
      "metadata": {
        "id": "BTZ00Zscgrus"
      },
      "source": [
        "# Lab Submission"
      ]
    },
    {
      "cell_type": "markdown",
      "metadata": {
        "id": "rN93XC6xgvwP"
      },
      "source": [
        "We're going to build our experience with working with Libraries and examining documentation by populating our 'People' table with data provided to us by the `Faker` library. `Faker` is used to generate fake data and is very helpful for the rapid generation of databases for the purposes of testing. Run the two blocks below to install faker and get an idea of what it can do."
      ]
    },
    {
      "cell_type": "code",
      "metadata": {
        "id": "CejUXkoRhPik",
        "colab": {
          "base_uri": "https://localhost:8080/"
        },
        "outputId": "e73db07c-4366-489e-aa7f-fe9ba03f821d"
      },
      "source": [
        "!pip install faker"
      ],
      "execution_count": 3,
      "outputs": [
        {
          "output_type": "stream",
          "name": "stdout",
          "text": [
            "Collecting faker\n",
            "  Downloading Faker-13.2.0-py3-none-any.whl (1.5 MB)\n",
            "\u001b[?25l\r\u001b[K     |▏                               | 10 kB 29.0 MB/s eta 0:00:01\r\u001b[K     |▍                               | 20 kB 34.2 MB/s eta 0:00:01\r\u001b[K     |▋                               | 30 kB 37.4 MB/s eta 0:00:01\r\u001b[K     |▉                               | 40 kB 23.1 MB/s eta 0:00:01\r\u001b[K     |█                               | 51 kB 20.0 MB/s eta 0:00:01\r\u001b[K     |█▎                              | 61 kB 22.8 MB/s eta 0:00:01\r\u001b[K     |█▌                              | 71 kB 22.0 MB/s eta 0:00:01\r\u001b[K     |█▊                              | 81 kB 23.5 MB/s eta 0:00:01\r\u001b[K     |██                              | 92 kB 25.4 MB/s eta 0:00:01\r\u001b[K     |██▏                             | 102 kB 24.4 MB/s eta 0:00:01\r\u001b[K     |██▍                             | 112 kB 24.4 MB/s eta 0:00:01\r\u001b[K     |██▋                             | 122 kB 24.4 MB/s eta 0:00:01\r\u001b[K     |██▉                             | 133 kB 24.4 MB/s eta 0:00:01\r\u001b[K     |███                             | 143 kB 24.4 MB/s eta 0:00:01\r\u001b[K     |███▎                            | 153 kB 24.4 MB/s eta 0:00:01\r\u001b[K     |███▌                            | 163 kB 24.4 MB/s eta 0:00:01\r\u001b[K     |███▊                            | 174 kB 24.4 MB/s eta 0:00:01\r\u001b[K     |████                            | 184 kB 24.4 MB/s eta 0:00:01\r\u001b[K     |████▏                           | 194 kB 24.4 MB/s eta 0:00:01\r\u001b[K     |████▍                           | 204 kB 24.4 MB/s eta 0:00:01\r\u001b[K     |████▋                           | 215 kB 24.4 MB/s eta 0:00:01\r\u001b[K     |████▉                           | 225 kB 24.4 MB/s eta 0:00:01\r\u001b[K     |█████                           | 235 kB 24.4 MB/s eta 0:00:01\r\u001b[K     |█████▎                          | 245 kB 24.4 MB/s eta 0:00:01\r\u001b[K     |█████▌                          | 256 kB 24.4 MB/s eta 0:00:01\r\u001b[K     |█████▊                          | 266 kB 24.4 MB/s eta 0:00:01\r\u001b[K     |██████                          | 276 kB 24.4 MB/s eta 0:00:01\r\u001b[K     |██████▏                         | 286 kB 24.4 MB/s eta 0:00:01\r\u001b[K     |██████▍                         | 296 kB 24.4 MB/s eta 0:00:01\r\u001b[K     |██████▋                         | 307 kB 24.4 MB/s eta 0:00:01\r\u001b[K     |██████▉                         | 317 kB 24.4 MB/s eta 0:00:01\r\u001b[K     |███████                         | 327 kB 24.4 MB/s eta 0:00:01\r\u001b[K     |███████▎                        | 337 kB 24.4 MB/s eta 0:00:01\r\u001b[K     |███████▌                        | 348 kB 24.4 MB/s eta 0:00:01\r\u001b[K     |███████▊                        | 358 kB 24.4 MB/s eta 0:00:01\r\u001b[K     |████████                        | 368 kB 24.4 MB/s eta 0:00:01\r\u001b[K     |████████▏                       | 378 kB 24.4 MB/s eta 0:00:01\r\u001b[K     |████████▍                       | 389 kB 24.4 MB/s eta 0:00:01\r\u001b[K     |████████▋                       | 399 kB 24.4 MB/s eta 0:00:01\r\u001b[K     |████████▉                       | 409 kB 24.4 MB/s eta 0:00:01\r\u001b[K     |█████████                       | 419 kB 24.4 MB/s eta 0:00:01\r\u001b[K     |█████████▎                      | 430 kB 24.4 MB/s eta 0:00:01\r\u001b[K     |█████████▌                      | 440 kB 24.4 MB/s eta 0:00:01\r\u001b[K     |█████████▊                      | 450 kB 24.4 MB/s eta 0:00:01\r\u001b[K     |██████████                      | 460 kB 24.4 MB/s eta 0:00:01\r\u001b[K     |██████████▏                     | 471 kB 24.4 MB/s eta 0:00:01\r\u001b[K     |██████████▍                     | 481 kB 24.4 MB/s eta 0:00:01\r\u001b[K     |██████████▋                     | 491 kB 24.4 MB/s eta 0:00:01\r\u001b[K     |██████████▉                     | 501 kB 24.4 MB/s eta 0:00:01\r\u001b[K     |███████████                     | 512 kB 24.4 MB/s eta 0:00:01\r\u001b[K     |███████████▏                    | 522 kB 24.4 MB/s eta 0:00:01\r\u001b[K     |███████████▍                    | 532 kB 24.4 MB/s eta 0:00:01\r\u001b[K     |███████████▋                    | 542 kB 24.4 MB/s eta 0:00:01\r\u001b[K     |███████████▉                    | 552 kB 24.4 MB/s eta 0:00:01\r\u001b[K     |████████████                    | 563 kB 24.4 MB/s eta 0:00:01\r\u001b[K     |████████████▎                   | 573 kB 24.4 MB/s eta 0:00:01\r\u001b[K     |████████████▌                   | 583 kB 24.4 MB/s eta 0:00:01\r\u001b[K     |████████████▊                   | 593 kB 24.4 MB/s eta 0:00:01\r\u001b[K     |█████████████                   | 604 kB 24.4 MB/s eta 0:00:01\r\u001b[K     |█████████████▏                  | 614 kB 24.4 MB/s eta 0:00:01\r\u001b[K     |█████████████▍                  | 624 kB 24.4 MB/s eta 0:00:01\r\u001b[K     |█████████████▋                  | 634 kB 24.4 MB/s eta 0:00:01\r\u001b[K     |█████████████▉                  | 645 kB 24.4 MB/s eta 0:00:01\r\u001b[K     |██████████████                  | 655 kB 24.4 MB/s eta 0:00:01\r\u001b[K     |██████████████▎                 | 665 kB 24.4 MB/s eta 0:00:01\r\u001b[K     |██████████████▌                 | 675 kB 24.4 MB/s eta 0:00:01\r\u001b[K     |██████████████▊                 | 686 kB 24.4 MB/s eta 0:00:01\r\u001b[K     |███████████████                 | 696 kB 24.4 MB/s eta 0:00:01\r\u001b[K     |███████████████▏                | 706 kB 24.4 MB/s eta 0:00:01\r\u001b[K     |███████████████▍                | 716 kB 24.4 MB/s eta 0:00:01\r\u001b[K     |███████████████▋                | 727 kB 24.4 MB/s eta 0:00:01\r\u001b[K     |███████████████▉                | 737 kB 24.4 MB/s eta 0:00:01\r\u001b[K     |████████████████                | 747 kB 24.4 MB/s eta 0:00:01\r\u001b[K     |████████████████▎               | 757 kB 24.4 MB/s eta 0:00:01\r\u001b[K     |████████████████▌               | 768 kB 24.4 MB/s eta 0:00:01\r\u001b[K     |████████████████▊               | 778 kB 24.4 MB/s eta 0:00:01\r\u001b[K     |█████████████████               | 788 kB 24.4 MB/s eta 0:00:01\r\u001b[K     |█████████████████▏              | 798 kB 24.4 MB/s eta 0:00:01\r\u001b[K     |█████████████████▍              | 808 kB 24.4 MB/s eta 0:00:01\r\u001b[K     |█████████████████▋              | 819 kB 24.4 MB/s eta 0:00:01\r\u001b[K     |█████████████████▉              | 829 kB 24.4 MB/s eta 0:00:01\r\u001b[K     |██████████████████              | 839 kB 24.4 MB/s eta 0:00:01\r\u001b[K     |██████████████████▎             | 849 kB 24.4 MB/s eta 0:00:01\r\u001b[K     |██████████████████▌             | 860 kB 24.4 MB/s eta 0:00:01\r\u001b[K     |██████████████████▊             | 870 kB 24.4 MB/s eta 0:00:01\r\u001b[K     |███████████████████             | 880 kB 24.4 MB/s eta 0:00:01\r\u001b[K     |███████████████████▏            | 890 kB 24.4 MB/s eta 0:00:01\r\u001b[K     |███████████████████▍            | 901 kB 24.4 MB/s eta 0:00:01\r\u001b[K     |███████████████████▋            | 911 kB 24.4 MB/s eta 0:00:01\r\u001b[K     |███████████████████▉            | 921 kB 24.4 MB/s eta 0:00:01\r\u001b[K     |████████████████████            | 931 kB 24.4 MB/s eta 0:00:01\r\u001b[K     |████████████████████▎           | 942 kB 24.4 MB/s eta 0:00:01\r\u001b[K     |████████████████████▌           | 952 kB 24.4 MB/s eta 0:00:01\r\u001b[K     |████████████████████▊           | 962 kB 24.4 MB/s eta 0:00:01\r\u001b[K     |█████████████████████           | 972 kB 24.4 MB/s eta 0:00:01\r\u001b[K     |█████████████████████▏          | 983 kB 24.4 MB/s eta 0:00:01\r\u001b[K     |█████████████████████▍          | 993 kB 24.4 MB/s eta 0:00:01\r\u001b[K     |█████████████████████▋          | 1.0 MB 24.4 MB/s eta 0:00:01\r\u001b[K     |█████████████████████▉          | 1.0 MB 24.4 MB/s eta 0:00:01\r\u001b[K     |██████████████████████          | 1.0 MB 24.4 MB/s eta 0:00:01\r\u001b[K     |██████████████████████▏         | 1.0 MB 24.4 MB/s eta 0:00:01\r\u001b[K     |██████████████████████▍         | 1.0 MB 24.4 MB/s eta 0:00:01\r\u001b[K     |██████████████████████▋         | 1.1 MB 24.4 MB/s eta 0:00:01\r\u001b[K     |██████████████████████▉         | 1.1 MB 24.4 MB/s eta 0:00:01\r\u001b[K     |███████████████████████         | 1.1 MB 24.4 MB/s eta 0:00:01\r\u001b[K     |███████████████████████▎        | 1.1 MB 24.4 MB/s eta 0:00:01\r\u001b[K     |███████████████████████▌        | 1.1 MB 24.4 MB/s eta 0:00:01\r\u001b[K     |███████████████████████▊        | 1.1 MB 24.4 MB/s eta 0:00:01\r\u001b[K     |████████████████████████        | 1.1 MB 24.4 MB/s eta 0:00:01\r\u001b[K     |████████████████████████▏       | 1.1 MB 24.4 MB/s eta 0:00:01\r\u001b[K     |████████████████████████▍       | 1.1 MB 24.4 MB/s eta 0:00:01\r\u001b[K     |████████████████████████▋       | 1.1 MB 24.4 MB/s eta 0:00:01\r\u001b[K     |████████████████████████▉       | 1.2 MB 24.4 MB/s eta 0:00:01\r\u001b[K     |█████████████████████████       | 1.2 MB 24.4 MB/s eta 0:00:01\r\u001b[K     |█████████████████████████▎      | 1.2 MB 24.4 MB/s eta 0:00:01\r\u001b[K     |█████████████████████████▌      | 1.2 MB 24.4 MB/s eta 0:00:01\r\u001b[K     |█████████████████████████▊      | 1.2 MB 24.4 MB/s eta 0:00:01\r\u001b[K     |██████████████████████████      | 1.2 MB 24.4 MB/s eta 0:00:01\r\u001b[K     |██████████████████████████▏     | 1.2 MB 24.4 MB/s eta 0:00:01\r\u001b[K     |██████████████████████████▍     | 1.2 MB 24.4 MB/s eta 0:00:01\r\u001b[K     |██████████████████████████▋     | 1.2 MB 24.4 MB/s eta 0:00:01\r\u001b[K     |██████████████████████████▉     | 1.2 MB 24.4 MB/s eta 0:00:01\r\u001b[K     |███████████████████████████     | 1.3 MB 24.4 MB/s eta 0:00:01\r\u001b[K     |███████████████████████████▎    | 1.3 MB 24.4 MB/s eta 0:00:01\r\u001b[K     |███████████████████████████▌    | 1.3 MB 24.4 MB/s eta 0:00:01\r\u001b[K     |███████████████████████████▊    | 1.3 MB 24.4 MB/s eta 0:00:01\r\u001b[K     |████████████████████████████    | 1.3 MB 24.4 MB/s eta 0:00:01\r\u001b[K     |████████████████████████████▏   | 1.3 MB 24.4 MB/s eta 0:00:01\r\u001b[K     |████████████████████████████▍   | 1.3 MB 24.4 MB/s eta 0:00:01\r\u001b[K     |████████████████████████████▋   | 1.3 MB 24.4 MB/s eta 0:00:01\r\u001b[K     |████████████████████████████▉   | 1.3 MB 24.4 MB/s eta 0:00:01\r\u001b[K     |█████████████████████████████   | 1.4 MB 24.4 MB/s eta 0:00:01\r\u001b[K     |█████████████████████████████▎  | 1.4 MB 24.4 MB/s eta 0:00:01\r\u001b[K     |█████████████████████████████▌  | 1.4 MB 24.4 MB/s eta 0:00:01\r\u001b[K     |█████████████████████████████▊  | 1.4 MB 24.4 MB/s eta 0:00:01\r\u001b[K     |██████████████████████████████  | 1.4 MB 24.4 MB/s eta 0:00:01\r\u001b[K     |██████████████████████████████▏ | 1.4 MB 24.4 MB/s eta 0:00:01\r\u001b[K     |██████████████████████████████▍ | 1.4 MB 24.4 MB/s eta 0:00:01\r\u001b[K     |██████████████████████████████▋ | 1.4 MB 24.4 MB/s eta 0:00:01\r\u001b[K     |██████████████████████████████▉ | 1.4 MB 24.4 MB/s eta 0:00:01\r\u001b[K     |███████████████████████████████ | 1.4 MB 24.4 MB/s eta 0:00:01\r\u001b[K     |███████████████████████████████▎| 1.5 MB 24.4 MB/s eta 0:00:01\r\u001b[K     |███████████████████████████████▌| 1.5 MB 24.4 MB/s eta 0:00:01\r\u001b[K     |███████████████████████████████▊| 1.5 MB 24.4 MB/s eta 0:00:01\r\u001b[K     |████████████████████████████████| 1.5 MB 24.4 MB/s eta 0:00:01\r\u001b[K     |████████████████████████████████| 1.5 MB 24.4 MB/s \n",
            "\u001b[?25hRequirement already satisfied: python-dateutil>=2.4 in /usr/local/lib/python3.7/dist-packages (from faker) (2.8.2)\n",
            "Requirement already satisfied: typing-extensions>=3.10.0.2 in /usr/local/lib/python3.7/dist-packages (from faker) (3.10.0.2)\n",
            "Requirement already satisfied: six>=1.5 in /usr/local/lib/python3.7/dist-packages (from python-dateutil>=2.4->faker) (1.15.0)\n",
            "Installing collected packages: faker\n",
            "Successfully installed faker-13.2.0\n"
          ]
        }
      ]
    },
    {
      "cell_type": "code",
      "metadata": {
        "id": "vO2Uhcwrhw8-",
        "colab": {
          "base_uri": "https://localhost:8080/",
          "height": 373
        },
        "outputId": "0c712819-14cf-4745-d266-a4dc2bff9bc9"
      },
      "source": [
        "from faker import Faker\n",
        "\n",
        "fake = Faker()\n",
        "\n",
        "for _ in range(10):\n",
        "  print('{} || {} || {}'.format( fake.name(), fake.job() ) )"
      ],
      "execution_count": 2,
      "outputs": [
        {
          "output_type": "error",
          "ename": "ModuleNotFoundError",
          "evalue": "ignored",
          "traceback": [
            "\u001b[0;31m---------------------------------------------------------------------------\u001b[0m",
            "\u001b[0;31mModuleNotFoundError\u001b[0m                       Traceback (most recent call last)",
            "\u001b[0;32m<ipython-input-2-a6faa0a373d2>\u001b[0m in \u001b[0;36m<module>\u001b[0;34m()\u001b[0m\n\u001b[0;32m----> 1\u001b[0;31m \u001b[0;32mfrom\u001b[0m \u001b[0mfaker\u001b[0m \u001b[0;32mimport\u001b[0m \u001b[0mFaker\u001b[0m\u001b[0;34m\u001b[0m\u001b[0;34m\u001b[0m\u001b[0m\n\u001b[0m\u001b[1;32m      2\u001b[0m \u001b[0;34m\u001b[0m\u001b[0m\n\u001b[1;32m      3\u001b[0m \u001b[0mfake\u001b[0m \u001b[0;34m=\u001b[0m \u001b[0mFaker\u001b[0m\u001b[0;34m(\u001b[0m\u001b[0;34m)\u001b[0m\u001b[0;34m\u001b[0m\u001b[0;34m\u001b[0m\u001b[0m\n\u001b[1;32m      4\u001b[0m \u001b[0;34m\u001b[0m\u001b[0m\n\u001b[1;32m      5\u001b[0m \u001b[0;32mfor\u001b[0m \u001b[0m_\u001b[0m \u001b[0;32min\u001b[0m \u001b[0mrange\u001b[0m\u001b[0;34m(\u001b[0m\u001b[0;36m10\u001b[0m\u001b[0;34m)\u001b[0m\u001b[0;34m:\u001b[0m\u001b[0;34m\u001b[0m\u001b[0;34m\u001b[0m\u001b[0m\n",
            "\u001b[0;31mModuleNotFoundError\u001b[0m: No module named 'faker'",
            "",
            "\u001b[0;31m---------------------------------------------------------------------------\u001b[0;32m\nNOTE: If your import is failing due to a missing package, you can\nmanually install dependencies using either !pip or !apt.\n\nTo view examples of installing some common dependencies, click the\n\"Open Examples\" button below.\n\u001b[0;31m---------------------------------------------------------------------------\u001b[0m\n"
          ],
          "errorDetails": {
            "actions": [
              {
                "action": "open_url",
                "actionText": "Open Examples",
                "url": "/notebooks/snippets/importing_libraries.ipynb"
              }
            ]
          }
        }
      ]
    },
    {
      "cell_type": "markdown",
      "metadata": {
        "id": "IsYIsSvRjmiG"
      },
      "source": [
        "Very cool! Faker has tons of `providers` that can all be used to populate fake data. The [list of providers](https://faker.readthedocs.io/en/stable/providers.html) in the Faker documentation will help you fill out the columns for our People table.\n",
        "\n",
        "The goal of this script is to populate the people table with 1000 entries, with the following constraints:\n",
        "\n",
        "1. The `heatmap` column must contain a random number between `999` and `2500`\n",
        "2. The `created_at` and `updated_at` columns must use the `datetime` object (see examples above) \n",
        "2. Use `Faker` to generate all other fields.\n",
        "\n",
        "*Hint: Each of the methods contained in the provider can be called directly from the base Faker object, for example, one can call the `file_name()` method from `faker.providers.file` by calling `Faker().file_name()`*"
      ]
    },
    {
      "cell_type": "code",
      "metadata": {
        "id": "Yi-fE0uUlor4"
      },
      "source": [
        "import sqlite3\n",
        "from faker import Faker\n",
        "from datetime import datetime \n",
        "import random \n",
        "import pprint\n",
        "myConnection = sqlite3.connect('social_network.db')\n",
        "\n",
        "\n",
        "myCursor = myConnection.cursor()\n",
        "\n",
        "\n",
        "\n",
        "#This is the same syntax as the above example:\n",
        "addPersonQuery = \"\"\"INSERT INTO people (name, \n",
        "                      email, \n",
        "                      address, \n",
        "                      city, \n",
        "                      province, \n",
        "                      country, \n",
        "                      phone, \n",
        "                      bio,\n",
        "                      dob,\n",
        "                      heatmap,\n",
        "                      created_at, \n",
        "                      updated_at, \n",
        "                      ipv4)\n",
        "                  VALUES (?, ?, ?, ?, ?, ?, ?, ?, ?, ?, ?, ?,? );\"\"\"\n",
        "fake = Faker(\"en_CA\")\n",
        "for i in range(1000):\n",
        "  myPerson = (fake.name(), \n",
        "              fake.email(), \n",
        "              fake.address(), \n",
        "              fake.city(), \n",
        "              fake.country(), \n",
        "              fake.phone_number(), \n",
        "              fake.sentence(nb_words=90),\n",
        "              fake.administrative_unit(),\n",
        "              fake.date(),\n",
        "              random.randint(999,2500),\n",
        "              datetime.now(), \n",
        "              datetime.now(),\n",
        "              fake.ipv4())\n",
        "  myCursor.execute(addPersonQuery, myPerson)\n",
        "myConnection.commit()\n",
        "myConnection.close()    \n",
        "\n",
        "\n",
        "\n",
        "                  \n",
        "  \n",
        "\n",
        "\n",
        "\n",
        "\n",
        "#Ideally, you will want to create a loop that will iterate 1000 times,\n",
        "#Observe the example in the earlier code block showing the parameter tuple `myPerson`\n",
        "#You can duplicate that inside your loop and replace those fields with calls to the appropriate faker provider method\n",
        "#Execute your statement inside the loop,\n",
        "#But, don't forget to commit and close your connection when you have finished!"
      ],
      "execution_count": 22,
      "outputs": []
    },
    {
      "cell_type": "markdown",
      "metadata": {
        "id": "mVEgfYArnITl"
      },
      "source": [
        "Finally, the last step,\n",
        "Using the code block below, combined with what you have learned above, and the Lecture notes,\n",
        "Craft a SQL Query that will return the `name` of no more than `20` `people` with a `heatmap` greater than `1500`"
      ]
    },
    {
      "cell_type": "code",
      "metadata": {
        "id": "oN6wSS9roOP6",
        "colab": {
          "base_uri": "https://localhost:8080/"
        },
        "outputId": "5160ae35-efd9-4f43-f462-788ade765c7d"
      },
      "source": [
        "import sqlite3\n",
        "from pprint import pprint\n",
        "myConnection.commit()\n",
        "\n",
        "myConnection = sqlite3.connect('social_network.db')\n",
        "myCursor.execute(\"\"\" SELECT name, heatmap from people WHERE heatmap > 1500 LIMIT 20\"\"\")\n",
        "pprint(myCursor.fetchall())"
      ],
      "execution_count": 20,
      "outputs": [
        {
          "output_type": "stream",
          "name": "stdout",
          "text": [
            "[('Crystal French', 1850),\n",
            " ('Daisy Morales', 2412),\n",
            " ('Christopher Norton', 2326),\n",
            " ('Mrs. Anita Young', 2001),\n",
            " ('Keith Patrick', 1737),\n",
            " ('Kimberly Long', 2188),\n",
            " ('Amy Morse', 1508),\n",
            " ('Mark Briggs', 2428),\n",
            " ('Jeff Wright', 2011),\n",
            " ('Stephanie Williams', 2337),\n",
            " ('Angie Fuller', 1994),\n",
            " ('Robert Savage', 2018),\n",
            " ('Ricardo Johnson', 1525),\n",
            " ('Michael Parker', 1570),\n",
            " ('Yolanda Gonzalez', 2232),\n",
            " ('Matthew Abbott', 1867),\n",
            " ('Gabriel Hopkins', 2286),\n",
            " ('Alexander Santos', 1519),\n",
            " ('Garrett Stone', 2114),\n",
            " ('John Shields', 2214)]\n"
          ]
        }
      ]
    },
    {
      "cell_type": "markdown",
      "metadata": {
        "id": "qwNrP7FfpJg2"
      },
      "source": [
        "Your submission will contain, as usual, a link to your completed colab notebook, but in addition to that, you will download a copy of your social_network.db file and upload it to D2L. To download the file, right click it from the Files menu on the left of the Notebook."
      ]
    }
  ]
}